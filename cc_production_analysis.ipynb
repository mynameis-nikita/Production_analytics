{
 "cells": [
  {
   "cell_type": "markdown",
   "id": "7750b4ec",
   "metadata": {},
   "source": [
    "# Исследование данных завода по производству б/а напитков"
   ]
  },
  {
   "cell_type": "markdown",
   "id": "1636c787",
   "metadata": {},
   "source": [
    "___"
   ]
  },
  {
   "cell_type": "markdown",
   "id": "a587c96b",
   "metadata": {},
   "source": [
    "❗❗❗ __Внимание: Данные были изменены в целях сохранения Конфиденциальности и Коммерческой тайны__ ❗❗❗"
   ]
  },
  {
   "cell_type": "markdown",
   "id": "238ddd16",
   "metadata": {},
   "source": [
    "___"
   ]
  },
  {
   "cell_type": "markdown",
   "id": "ed7ded9b",
   "metadata": {},
   "source": [
    "## Цель\n",
    "В рамках подготовки к квартальному ревью: <br>\n",
    "Составить рекомендации для Начальника производства по устранению потерь, исходя из оценки результатов работы каждой смены и выявления источников наибольших потерь. \n",
    "\n",
    "## Задачи\n",
    "Задача №1. Сравнить показатель эффективности (SLE) в разных сменах. <br>\n",
    "Задача №2. Определить ключевые источники производственных потерь <br>\n"
   ]
  },
  {
   "cell_type": "markdown",
   "id": "5f20a987",
   "metadata": {},
   "source": [
    "___"
   ]
  },
  {
   "cell_type": "markdown",
   "id": "57166056",
   "metadata": {},
   "source": [
    "## Задача №1"
   ]
  },
  {
   "cell_type": "markdown",
   "id": "2f2c3fbd",
   "metadata": {},
   "source": [
    "Сравнить показатель эффективности (SLE) в разных сменах. <br>\n",
    "\n"
   ]
  },
  {
   "cell_type": "markdown",
   "id": "b407a1f2",
   "metadata": {},
   "source": [
    "<div class = \"alert alert-block alert-info\">\n",
    "$$  SLE = \\frac{ProductiveRunningTime - Validation - Maintenance}{ShiftDuration}*100% $$\n"
   ]
  },
  {
   "cell_type": "code",
   "execution_count": null,
   "id": "38505da8",
   "metadata": {},
   "outputs": [],
   "source": [
    "import pandas as pd\n",
    "import datetime as dt\n",
    "import seaborn as sns \n",
    "import matplotlib.pyplot as plt"
   ]
  },
  {
   "cell_type": "code",
   "execution_count": 43,
   "id": "f21d76fd",
   "metadata": {},
   "outputs": [],
   "source": [
    "# Статические переменные\n",
    "\n",
    "DATA_FOLDER = '/Users/nikita/Desktop/git/data/' # Расположение файла с результатамии смен\n",
    "DATA_FILENAME = 'EXPORT-2.xlsx'     # Имя файла с результатамии смен\n",
    "SCHEDULE_FILENAME = 'schedule.xlsx' #  Расположение файла c графиком смен\n",
    "production_lines = (207, 209, 296, 218, 233) #  Коды производственных линий "
   ]
  },
  {
   "cell_type": "code",
   "execution_count": 44,
   "id": "e051c32c",
   "metadata": {},
   "outputs": [],
   "source": [
    "# Функция загрузки данных в датафреймы\n",
    "\n",
    "def load_data(DATA_FOLDER, DATA_FILENAME):     \n",
    "    sv_results = pd.read_excel(DATA_FOLDER + DATA_FILENAME, parse_dates= True) #  Производственные данные   \n",
    "    q1_schedule = pd.read_excel(DATA_FOLDER + SCHEDULE_FILENAME, parse_dates= True)  #  Графики смен\n",
    "    return sv_results, q1_schedule\n"
   ]
  },
  {
   "cell_type": "code",
   "execution_count": 108,
   "id": "c5cf7571",
   "metadata": {},
   "outputs": [],
   "source": [
    "#  Функция для предобработки производственных данных. Оставляет только необходимые данные в удобном формате.\n",
    "#  Расчитывает и добавляет в ДФ сведения о таких метриках как: \n",
    "#  Длительность, Время на валидацию и ТО, Чистое производственное время внутри смены \n",
    "\n",
    "\n",
    "def prepare_plant_data (sv_results):\n",
    "    \n",
    "    # Удаляю пустые колонки, оставляю только производственные линии\n",
    "    sv_results.dropna(axis = 1, how = 'all', inplace=True)  \n",
    "    sv_results = sv_results[sv_results['Work ctr'].isin(production_lines)] \n",
    "    \n",
    "    \n",
    "    # Переименовываю столбцы\n",
    "    new_cols_names = {'Дата':'date', 'Work ctr':'line', 'Причина':'shift',      'Down-time code':'dt_code', \n",
    "                      'Down-time code desc.':'dt_desc', 'ОбщПродл':'shift_dur', 'Line hours':'action_dur'}    \n",
    "    sv_results = sv_results.rename(columns=new_cols_names)\n",
    "    \n",
    "    \n",
    "    # Нужные столбцы\n",
    "    sv_results = sv_results[['date','line','shift','dt_code','dt_desc','shift_dur','action_dur']]\n",
    "    \n",
    "    \n",
    "    # Привожу время к сек.\n",
    "    sv_results.action_dur = sv_results.action_dur.apply(lambda x: x.second + x.minute * 60 + x.hour * 3600).copy() \n",
    "    \n",
    "    \n",
    "    # Перевожу формат даты в строковый, для унификации\n",
    "    sv_results.date = sv_results.date.astype(str) \n",
    "    \n",
    "    \n",
    "    # Расчет чистого производственного времени (код 000) для каждой смены\n",
    "    prod_time = sv_results[sv_results['dt_code'] == '000'] \\\n",
    "                .groupby(['date', 'shift'], as_index = False) \\\n",
    "                .agg({'action_dur':'sum'}) \\\n",
    "                .rename(columns= {'action_dur':'prod_time'})\n",
    "    \n",
    "    \n",
    "    # Расчет времени, затраченного на валидацию и тех.обслуживание (код 95, 911) для каждой смены\n",
    "    val_time = sv_results[sv_results['dt_code'].isin(['95', '911', '912'])] \\\n",
    "                .groupby(['date', 'shift'], as_index = False) \\\n",
    "                .agg({'action_dur':'sum'}) \\\n",
    "                .rename(columns= {'action_dur':'val_time'})\n",
    "    \n",
    "    \n",
    "    # Расчет длительности каждой смены\n",
    "    shift_time = sv_results.groupby(['date', 'shift'], as_index = False) \\\n",
    "                .agg({'action_dur':'sum'}) \\\n",
    "                .rename(columns= {'action_dur':'shift_time'})\n",
    "    \n",
    "    \n",
    "    # Соединяю в одну таблицу длительность смены, время на валидацию и производственное время\n",
    "    final_report = shift_time.merge(prod_time, on=['date', 'shift'], how='left') \\\n",
    "                .merge(val_time, on=['date', 'shift'], how='left') \\\n",
    "                .fillna(0) \\\n",
    "                .sort_values(by = ['date', 'shift'])\n",
    "    \n",
    "    return sv_results, final_report\n",
    "    "
   ]
  },
  {
   "cell_type": "code",
   "execution_count": 52,
   "id": "53ebb293",
   "metadata": {},
   "outputs": [],
   "source": [
    "# Функция подготавливает данные из графика смен к объединению с Данными\n",
    "\n",
    "def prepare_shift_data (schedule):\n",
    "\n",
    "    #  Для удобства транспонирую график смен\n",
    "    schedule.drop(index=0,  inplace=True)\n",
    "    schedule = schedule.transpose()\n",
    "    \n",
    "    \n",
    "    # Выкидываю лишние строки\n",
    "    schedule = schedule.drop(index = ['Ф.И.О.', 'Смена']).reset_index()\n",
    "    schedule = schedule.set_axis(['date','Скифарь Игорь','Макаров Mаксим', 'Спальников Алексей', \n",
    "                                  'Турковский Сергей','Смирновский Александр'], axis = 1)\n",
    "    \n",
    "    \n",
    "    # Сплитую колонки по-строчно, отсутствующие смены выкидываю\n",
    "    schedule = schedule.melt(id_vars= 'date')\n",
    "    schedule.dropna(how = 'any', inplace=True)\n",
    "    schedule.reset_index().drop('index', axis=1, inplace=True)\n",
    "    \n",
    "    \n",
    "    # День меняю на код P12M, ночь на P12N для унификации данных в таблицах\n",
    "    schedule.replace({'Д':'P12M' , 'Н':'P12N'}, inplace=True)\n",
    "    \n",
    "    \n",
    "    # Переименование столбца\n",
    "    schedule.rename(columns={'value':'shift'}, inplace=True)\n",
    "    \n",
    "    \n",
    "    # Перевожу формат даты в строковый, для унификации и беру первые 10 символов, то есть без времени\n",
    "    schedule.date = schedule.date.astype(str)\n",
    "    schedule.date = schedule.date.apply(lambda x: x[:10])\n",
    "    \n",
    "    \n",
    "    return schedule\n"
   ]
  },
  {
   "cell_type": "code",
   "execution_count": 70,
   "id": "1f58e13b",
   "metadata": {},
   "outputs": [],
   "source": [
    "# Объединяю данные производства и график смен\n",
    "# Расчитываю и добавляю в ДФ Долю метрик в общем результате\n",
    "\n",
    "def supervisors_results(final_report, schedule):\n",
    "    \n",
    "    # Присоединяю таблицу с графиком смен к таблице с результатами смены\n",
    "    result = final_report.merge(schedule, on = ['date', 'shift'], how = 'left')\n",
    "    \n",
    "    \n",
    "    # Группирую по супервайзерам, \n",
    "    # Суммирую время чистого призводства, валидации и тех.обслуживания, общее производственное\n",
    "    result = result.groupby('variable', as_index=False).agg({'shift_time':'sum', 'val_time':'sum', 'prod_time':'sum'})\n",
    "    result['sle'] = round(result.prod_time / (result.shift_time - result.val_time) * 100, 1)\n",
    "    result[['shift_time','val_time','prod_time']] = round(result[['shift_time','val_time','prod_time']] /3600, 0)\n",
    "    result = result.rename(columns={'variable':'supervisor'})\n",
    "    result['val_percent'] = result.val_time / result.shift_time * 100\n",
    "    result = result.sort_values(by='sle', ascending=False).set_index('supervisor').reset_index()\n",
    "    \n",
    "    return result"
   ]
  },
  {
   "cell_type": "code",
   "execution_count": 109,
   "id": "7d1db223",
   "metadata": {},
   "outputs": [],
   "source": [
    "sv_results, schedule = load_data(DATA_FOLDER, DATA_FILENAME) #  Выполнение функции Загрузки Данных\n",
    "sv_results, final_report = prepare_plant_data(sv_results)  #  Выполнение функций Обработки данных\n",
    "schedule = prepare_shift_data(schedule)        #  Выполнение функций Обработки Графика смен\n",
    "result = supervisors_results(final_report, schedule)# Выполнение функции Объединения данных пр-ва и график смен\n"
   ]
  },
  {
   "cell_type": "code",
   "execution_count": 110,
   "id": "5e16489a",
   "metadata": {},
   "outputs": [
    {
     "data": {
      "text/html": [
       "<div>\n",
       "<style scoped>\n",
       "    .dataframe tbody tr th:only-of-type {\n",
       "        vertical-align: middle;\n",
       "    }\n",
       "\n",
       "    .dataframe tbody tr th {\n",
       "        vertical-align: top;\n",
       "    }\n",
       "\n",
       "    .dataframe thead th {\n",
       "        text-align: right;\n",
       "    }\n",
       "</style>\n",
       "<table border=\"1\" class=\"dataframe\">\n",
       "  <thead>\n",
       "    <tr style=\"text-align: right;\">\n",
       "      <th></th>\n",
       "      <th>supervisor</th>\n",
       "      <th>shift_time</th>\n",
       "      <th>val_time</th>\n",
       "      <th>prod_time</th>\n",
       "      <th>sle</th>\n",
       "      <th>val_percent</th>\n",
       "    </tr>\n",
       "  </thead>\n",
       "  <tbody>\n",
       "    <tr>\n",
       "      <th>0</th>\n",
       "      <td>Скифарь Игорь</td>\n",
       "      <td>88.0</td>\n",
       "      <td>18.0</td>\n",
       "      <td>56.0</td>\n",
       "      <td>79.7</td>\n",
       "      <td>20.454545</td>\n",
       "    </tr>\n",
       "    <tr>\n",
       "      <th>1</th>\n",
       "      <td>Турковский Сергей</td>\n",
       "      <td>1569.0</td>\n",
       "      <td>663.0</td>\n",
       "      <td>648.0</td>\n",
       "      <td>71.6</td>\n",
       "      <td>42.256214</td>\n",
       "    </tr>\n",
       "    <tr>\n",
       "      <th>2</th>\n",
       "      <td>Смирновский Александр</td>\n",
       "      <td>1598.0</td>\n",
       "      <td>558.0</td>\n",
       "      <td>693.0</td>\n",
       "      <td>66.6</td>\n",
       "      <td>34.918648</td>\n",
       "    </tr>\n",
       "    <tr>\n",
       "      <th>3</th>\n",
       "      <td>Макаров Mаксим</td>\n",
       "      <td>1372.0</td>\n",
       "      <td>587.0</td>\n",
       "      <td>508.0</td>\n",
       "      <td>64.6</td>\n",
       "      <td>42.784257</td>\n",
       "    </tr>\n",
       "    <tr>\n",
       "      <th>4</th>\n",
       "      <td>Спальников Алексей</td>\n",
       "      <td>1349.0</td>\n",
       "      <td>461.0</td>\n",
       "      <td>550.0</td>\n",
       "      <td>61.9</td>\n",
       "      <td>34.173462</td>\n",
       "    </tr>\n",
       "  </tbody>\n",
       "</table>\n",
       "</div>"
      ],
      "text/plain": [
       "              supervisor  shift_time  val_time  prod_time   sle  val_percent\n",
       "0          Скифарь Игорь        88.0      18.0       56.0  79.7    20.454545\n",
       "1      Турковский Сергей      1569.0     663.0      648.0  71.6    42.256214\n",
       "2  Смирновский Александр      1598.0     558.0      693.0  66.6    34.918648\n",
       "3         Макаров Mаксим      1372.0     587.0      508.0  64.6    42.784257\n",
       "4     Спальников Алексей      1349.0     461.0      550.0  61.9    34.173462"
      ]
     },
     "execution_count": 110,
     "metadata": {},
     "output_type": "execute_result"
    }
   ],
   "source": [
    "result"
   ]
  },
  {
   "cell_type": "code",
   "execution_count": 111,
   "id": "1c779b06",
   "metadata": {},
   "outputs": [
    {
     "data": {
      "image/png": "[encoded data removed]",
      "text/plain": [
       "<Figure size 1500x300 with 3 Axes>"
      ]
     },
     "metadata": {},
     "output_type": "display_data"
    }
   ],
   "source": [
    "sns.set (rc={\"figure.figsize\":(15, 3)})\n",
    "plt.subplots_adjust(hspace=0.3, wspace=0.3)\n",
    "\n",
    "plt.subplot(1,3,1)\n",
    "sns.barplot(data = result, x = 'supervisor', y ='sle', color = 'blue')\n",
    "plt.xticks(rotation=40);\n",
    "plt.xlabel('SLE внутри смен', fontsize=14)\n",
    "plt.ylabel('%')\n",
    "\n",
    "plt.subplot(1,3,2)\n",
    "sns.barplot(data = result, x = 'supervisor', y ='prod_time', color = 'green')\n",
    "plt.xticks(rotation=40);\n",
    "plt.xlabel('Производственное время', fontsize=14)\n",
    "plt.ylabel('%')\n",
    "\n",
    "plt.subplot(1,3,3)\n",
    "sns.barplot(data = result.sort_values(by = 'val_percent'), x = 'supervisor', y ='val_percent', color = 'red')\n",
    "plt.xticks(rotation=40);\n",
    "plt.xlabel('Доля Валидации и ТО', fontsize=14)\n",
    "plt.ylabel('%');\n"
   ]
  },
  {
   "cell_type": "markdown",
   "id": "58016d7b",
   "metadata": {},
   "source": [
    "#  Заключение \n",
    "Скифарь - Старший Начальник смены, его результаты стоит оценить отдельно\n",
    "\n",
    "<br>\n",
    "\n",
    "__Среди остальных 4-х Начальников смен:__\n",
    "\n",
    "👍 Турковский имеет наилучшие результаты по SLE, Чистому производственному времени, но имеет высокую долю валидации и ТО.\n",
    "\n",
    "👍 Смирновский имеет сбалансированные результаты\n",
    "\n",
    "⚠️ Спальников имеет низкий SLE  \n",
    "\n",
    "⚠️ Макаров. низкий показатель SLE. К тому же имеет самую высокую долю Валидации и ТО.\n",
    "\n",
    "<br>\n",
    "\n"
   ]
  },
  {
   "cell_type": "markdown",
   "id": "14ef015a",
   "metadata": {},
   "source": [
    "____"
   ]
  },
  {
   "cell_type": "markdown",
   "id": "98c0fb66",
   "metadata": {},
   "source": [
    "## Задача №2.\n",
    "Определить ключевые источники производственных потерь"
   ]
  },
  {
   "cell_type": "markdown",
   "id": "20ea6ef6",
   "metadata": {},
   "source": [
    "#  Заключение \n",
    "Самая распрастранённая причина простоя - Техническая неисправность или операционные ошибки на филлере\n",
    "Это наиболее проявляется на линиях 207, 209, 296, 233. <br>\n",
    "На линии 218 - Наиболее часто Выходят из строя Паллетайзер и Упаковщик \n",
    "\n",
    "\n",
    "__Рекомендуется:__\n",
    "1) запланировать комплексную проверку оборудования с привлечением специалистов <br>\n",
    "2) Провести опрос среди операторов филлера и составить программу внепланового обучения\n"
   ]
  },
  {
   "cell_type": "code",
   "execution_count": 113,
   "id": "430ddada",
   "metadata": {},
   "outputs": [],
   "source": [
    "# Создаю ДФ с сгруппированныеми заводскими простоями. Время суммировано и переведено в часы\n",
    "\n",
    "all_downtimes = sv_results.groupby(['line', 'dt_code','dt_desc'], as_index=False) \\\n",
    "    .agg({'action_dur':'sum'}) \\\n",
    "    .sort_values(by='action_dur', ascending=False)\n",
    "\n",
    "all_downtimes.action_dur = all_downtimes.action_dur.apply(lambda x: round(x/60/60, 1)) \n"
   ]
  },
  {
   "cell_type": "code",
   "execution_count": 187,
   "id": "d394b08c",
   "metadata": {},
   "outputs": [],
   "source": [
    "# Функция записывает отчет по переданной производственной линии в файл с отчетом\n",
    "\n",
    "def dt_report (all_downtimes, line_n):\n",
    "    # Фильтр по линии\n",
    "    plant_line = all_downtimes[all_downtimes.line == line_n]\n",
    "    \n",
    "    # Всё затраченное время\n",
    "    paid_time = plant_line.action_dur.sum().round(1)\n",
    "    \n",
    "    # Чистое время производства\n",
    "    productive_time = plant_line[plant_line.dt_code == '000'].action_dur.values[0]\n",
    "    \n",
    "    # Валидационное время (для вычета из SLE)\n",
    "    validation_time = plant_line[plant_line.dt_code == '95'].action_dur.values[0]\n",
    "    \n",
    "    # Время на запланированное ТО (для вычета из SLE)\n",
    "    maintenance_time = plant_line[plant_line.dt_code.isin(['912','911'])].action_dur.sum().round(1)\n",
    "    \n",
    "    # Net время \n",
    "    net_time = paid_time - validation_time - maintenance_time\n",
    "    \n",
    "    # Время на CIP процедуры\n",
    "    cip_time = plant_line[plant_line.dt_code.isin(['11', '111', '15', '117', '115', '155', '53'])] \\\n",
    "               .action_dur.sum().round(1)\n",
    "\n",
    "    # Создаю df с операционно-техническими простоями\n",
    "    all_downtimes = plant_line[~plant_line.dt_code \\\n",
    "                    .isin(['11', '111', '15', '117', '115', '155', '53', '912', '911', '95', '000'])].copy() \n",
    "    \n",
    "    # Суммарное время операционно-технических простоев\n",
    "    downtime_dur = all_downtimes.action_dur.sum().round(1)\n",
    "    \n",
    "    # Расчет топ-5 простоев линии\n",
    "    all_downtimes['dt_weight'] = plant_line['action_dur'] / net_time * 100\n",
    "    all_downtimes = all_downtimes \\\n",
    "        .rename(columns = {'dt_desc':'Причина простоя', 'dt_weight':'%', 'action_dur':'Время'}) \\\n",
    "        .drop(['line', 'dt_code'], axis=1).set_index('Причина простоя')\n",
    "    # Делаю формат выходных данных более читаемым\n",
    "    all_downtimes['%'] = all_downtimes['%'].map('{:,.2f}%'.format)\n",
    "    \n",
    "    \n",
    "    # Вывод отчета по линии    \n",
    "    f = open(\"LINE_REPORT.txt\", \"a\")\n",
    "    \n",
    "    f.write(f'''\n",
    "    __________________________________________________________________________________________________\n",
    "                                        \n",
    "                                        Производственная линия {line_n} \n",
    "    \n",
    "Paid_time   = {paid_time}(h)\n",
    "Validation  = {validation_time}(h)    {round (validation_time / paid_time * 100, 2)}%\n",
    "Maintenance = {maintenance_time}(h)    {round (maintenance_time / paid_time * 100, 2)}%\n",
    "Netto time  = {net_time.round(1)}(h)   {round (net_time / paid_time * 100, 2)}%    \n",
    "\n",
    "NET = {net_time.round(1)}(h)   100%    \n",
    "SLE = {productive_time}(h)    {round (productive_time / net_time * 100, 2)}%\n",
    "CIP = {cip_time}(h)    {round (cip_time / net_time * 100, 2)}%\n",
    "DTs = {downtime_dur}(h)    {round (downtime_dur / net_time * 100, 2)}%\n",
    "\n",
    "\n",
    "ТОП-5 Причин простоев на линии: \n",
    "{all_downtimes.head(5)}\n",
    "\n",
    "\n",
    "''')\n",
    "\n",
    "    \n",
    "    f.close()\n",
    "    \n",
    "    return [line_n, validation_time, maintenance_time, productive_time, cip_time, downtime_dur]\n"
   ]
  },
  {
   "cell_type": "code",
   "execution_count": 193,
   "id": "ec0ce512",
   "metadata": {},
   "outputs": [
    {
     "name": "stdout",
     "output_type": "stream",
     "text": [
      "Отчет выгружен в REPORT.txt\n"
     ]
    }
   ],
   "source": [
    "# Очистить файл от прошлых отчетов\n",
    "f = open(\"LINE_REPORT.txt\", \"w\")\n",
    "f.write('')\n",
    "f.close()\n",
    "\n",
    "df = pd.DataFrame(columns = ('line','validation_time','maintenance_time',\n",
    "                             'productive_time','cip_time','downtime_dur'))\n",
    "\n",
    "# Для каждой линии добавить запись о результатах в отчет\n",
    "for line_n in production_lines: \n",
    "    lines = dt_report(all_downtimes, line_n)\n",
    "    df.loc[len(df.index)] = lines\n",
    "\n",
    "print('Отчет выгружен в REPORT.txt')\n",
    "    "
   ]
  },
  {
   "cell_type": "markdown",
   "id": "a5915528",
   "metadata": {},
   "source": [
    "#  Заключение \n",
    "Самая распрастранённая причина простоя - Техническая неисправность или операционные ошибки на филлере\n",
    "Это наиболее проявляется на линиях 207, 209, 296, 233. <br>\n",
    "На линии 218 - Наиболее часто Выходят из строя Паллетайзер и Упаковщик \n",
    "\n",
    "\n",
    "__Рекомендуется:__\n",
    "1) запланировать комплексную проверку оборудования с привлечением специалистов <br>\n",
    "2) Провести опрос среди операторов филлера и составить программу внепланового обучения\n"
   ]
  },
  {
   "cell_type": "code",
   "execution_count": 197,
   "id": "2e7fe992",
   "metadata": {},
   "outputs": [
    {
     "data": {
      "image/png": "[encoded data removed]",
      "text/plain": [
       "<Figure size 1000x600 with 1 Axes>"
      ]
     },
     "metadata": {},
     "output_type": "display_data"
    }
   ],
   "source": [
    "#  В Дополнение: Вот так выглядит сравнительный график нагруженности и эффективности линий\n",
    "\n",
    "sns.set (rc={\"figure.figsize\":(10, 6)})\n",
    "df.plot(x='line', kind='bar', stacked=True, title='Stacked Bar Graph by dataframe')\n",
    "plt.show()"
   ]
  },
  {
   "cell_type": "code",
   "execution_count": null,
   "id": "4ad28295",
   "metadata": {},
   "outputs": [],
   "source": []
  }
 ],
 "metadata": {
  "kernelspec": {
   "display_name": "Python 3 (ipykernel)",
   "language": "python",
   "name": "python3"
  },
  "language_info": {
   "codemirror_mode": {
    "name": "ipython",
    "version": 3
   },
   "file_extension": ".py",
   "mimetype": "text/x-python",
   "name": "python",
   "nbconvert_exporter": "python",
   "pygments_lexer": "ipython3",
   "version": "3.9.13"
  }
 },
 "nbformat": 4,
 "nbformat_minor": 5
}
